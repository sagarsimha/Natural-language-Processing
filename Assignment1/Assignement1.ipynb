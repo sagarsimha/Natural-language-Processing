{
 "cells": [
  {
   "cell_type": "markdown",
   "metadata": {},
   "source": [
    "# NLP Summer 2020 - Assignement 1 - Exercise 4 \n",
    "## Vishaal Khanna - 120333\n",
    "## Sneha Mohanty - 120799\n",
    "## Sagar Nagaraj Simha - 120797"
   ]
  },
  {
   "cell_type": "markdown",
   "metadata": {},
   "source": [
    "## Exercise 4 a) Recalculation of statistical parameters from Exercise 3 for austen, bronte and disputed"
   ]
  },
  {
   "cell_type": "code",
   "execution_count": 1,
   "metadata": {},
   "outputs": [
    {
     "name": "stdout",
     "output_type": "stream",
     "text": [
      "statistics for file: austen.txt:\n",
      "number of tokens: 122880\n",
      "vocabulary size: 6322\n",
      "type-token-ratio: 0.05144856770833333\n",
      "mean token length: 4.3663330078125\n",
      "entropy: 9.066683301108936\n",
      "5 most frequent 1-grams: [(('the',), 4331), (('to',), 4163), (('of',), 3611), (('and',), 3585), (('her',), 2225)]\n",
      "5 most frequent 2-grams: [(('of', 'the'), 464), (('to', 'be'), 443), (('in', 'the'), 382), (('i', 'am'), 303), (('mr', 'darcy'), 273)]\n",
      "5 most frequent 3-grams: [(('i', 'do', 'not'), 62), (('i', 'am', 'sure'), 62), (('as', 'soon', 'as'), 55), (('she', 'could', 'not'), 50), (('that', 'he', 'had'), 37)]\n",
      "3 most frequent 4-grams: [(('i', 'do', 'not', 'know'), 19), (('at', 'the', 'same', 'time'), 16), (('the', 'rest', 'of', 'the'), 15)]\n",
      "3 most frequent 5-grams: [(('as', 'soon', 'as', 'they', 'were'), 9), (('mrs', 'hurst', 'and', 'miss', 'bingley'), 7), (('in', 'the', 'course', 'of', 'the'), 7)]\n",
      "\n",
      "\n",
      "\n",
      "statistics for file: bronte.txt:\n",
      "number of tokens: 188459\n",
      "vocabulary size: 12484\n",
      "type-token-ratio: 0.06624252489931497\n",
      "mean token length: 4.160560121830213\n",
      "entropy: 9.562135766603287\n",
      "5 most frequent 1-grams: [(('the',), 7806), (('i',), 7245), (('and',), 6606), (('to',), 5190), (('a',), 4460)]\n",
      "5 most frequent 2-grams: [(('of', 'the'), 807), (('in', 'the'), 610), (('i', 'had'), 510), (('i', 'was'), 482), (('to', 'the'), 433)]\n",
      "5 most frequent 3-grams: [(('i', 'could', 'not'), 109), (('i', 'did', 'not'), 60), (('it', 'was', 'a'), 57), (('i', 'don', 't'), 51), (('i', 'am', 'not'), 46)]\n",
      "3 most frequent 4-grams: [(('in', 'the', 'course', 'of'), 12), (('i', 'don', 't', 'know'), 11), (('in', 'the', 'midst', 'of'), 10)]\n",
      "3 most frequent 5-grams: [(('as', 'well', 'as', 'i', 'could'), 6), (('at', 'the', 'foot', 'of', 'the'), 5), (('in', 'the', 'course', 'of', 'the'), 5)]\n",
      "\n",
      "\n",
      "\n",
      "statistics for file: disputed.txt:\n",
      "number of tokens: 161975\n",
      "vocabulary size: 7099\n",
      "type-token-ratio: 0.04382775119617225\n",
      "mean token length: 4.22497916345115\n",
      "entropy: 9.019762786285101\n",
      "5 most frequent 1-grams: [(('to',), 5242), (('the',), 5204), (('and',), 4897), (('of',), 4293), (('i',), 3192)]\n",
      "5 most frequent 2-grams: [(('to', 'be'), 608), (('of', 'the'), 566), (('it', 'was'), 449), (('in', 'the'), 446), (('i', 'am'), 395)]\n",
      "5 most frequent 3-grams: [(('i', 'do', 'not'), 136), (('i', 'am', 'sure'), 109), (('she', 'could', 'not'), 73), (('a', 'great', 'deal'), 64), (('it', 'would', 'be'), 63)]\n",
      "3 most frequent 4-grams: [(('i', 'do', 'not', 'know'), 50), (('a', 'great', 'deal', 'of'), 26), (('i', 'am', 'sure', 'i'), 20)]\n",
      "3 most frequent 5-grams: [(('i', 'have', 'no', 'doubt', 'of'), 10), (('a', 'quarter', 'of', 'an', 'hour'), 8), (('i', 'do', 'not', 'know', 'what'), 7)]\n",
      "\n",
      "\n",
      "\n"
     ]
    }
   ],
   "source": [
    "import collections\n",
    "import string\n",
    "from math import log2\n",
    "\n",
    "import nltk\n",
    "from nltk import ngrams\n",
    "\n",
    "from nltk.tokenize import RegexpTokenizer\n",
    "\n",
    "AUSTEN = 'austen.txt'\n",
    "BRONTE = 'bronte.txt'\n",
    "DISPUTED = 'disputed.txt'\n",
    "\n",
    "special_chars = string.punctuation + \"``--''''\"\n",
    "\n",
    "\n",
    "def compute_stats(filename):\n",
    "    token_freq_dict = dict()\n",
    "    mean_token_length = 0.0\n",
    "    token_list = list()\n",
    "\n",
    "    with open(filename) as f:\n",
    "        text = f.read()\n",
    "        tokenizer = RegexpTokenizer(r'\\w+')\n",
    "        for token in tokenizer.tokenize(text):\n",
    "        #for token in nltk.word_tokenize(text):\n",
    "            #if token not in special_chars:\n",
    "                token = token.lower()\n",
    "                current_count = token_freq_dict.get(token, 0)\n",
    "                token_freq_dict[token] = current_count + 1\n",
    "                mean_token_length += len(token)\n",
    "                token_list.append(token)\n",
    "\n",
    "    num_tokens = sum([frequency for token, frequency in token_freq_dict.items()])\n",
    "    vocabulary_size = len(token_freq_dict)    # number of unique tokens\n",
    "    type_token_ratio = float(vocabulary_size / num_tokens)    # number of unique tokens / total number of tokens\n",
    "    mean_token_length /= num_tokens    # total length of all tokens / total number of tokens\n",
    "\n",
    "    # computing entropy\n",
    "    entropy = 0.0\n",
    "    for frequency in token_freq_dict.values():\n",
    "        token_probability = float(frequency / num_tokens)\n",
    "        token_entropy = token_probability * log2(token_probability)    # calculate entropy for every token and add to total entropy\n",
    "        entropy += token_entropy\n",
    "\n",
    "    entropy = entropy * (-1)\n",
    "\n",
    "    # computing most frequent ngrams, reference - https://www.kaggle.com/rtatman/tutorial-getting-n-grams\n",
    "    unigrams = ngrams(token_list, 1)\n",
    "    bigrams = ngrams(token_list, 2)\n",
    "    trigrams = ngrams(token_list, 3)\n",
    "    fourgrams = ngrams(token_list, 4)\n",
    "    fivegrams = ngrams(token_list, 5)\n",
    "\n",
    "    unigram_freq = collections.Counter(unigrams)\n",
    "    bigram_freq = collections.Counter(bigrams)\n",
    "    trigram_freq = collections.Counter(trigrams)\n",
    "    fourgrams_freq = collections.Counter(fourgrams)\n",
    "    fivegrams_freq = collections.Counter(fivegrams)\n",
    "\n",
    "    top_unigrams = unigram_freq.most_common(5)\n",
    "    top_bigrams = bigram_freq.most_common(5)\n",
    "    top_trigrams = trigram_freq.most_common(5)\n",
    "    top_fourgrams = fourgrams_freq.most_common(3)\n",
    "    top_fivegrams = fivegrams_freq.most_common(3)\n",
    "\n",
    "    print('statistics for file: {}:'.format(filename))\n",
    "    print('number of tokens: {}'.format(num_tokens))\n",
    "    print('vocabulary size: {}'.format(vocabulary_size))\n",
    "    print('type-token-ratio: {}'.format(type_token_ratio))\n",
    "    print('mean token length: {}'.format(mean_token_length))\n",
    "    print('entropy: {}'.format(entropy))\n",
    "    print('5 most frequent 1-grams: {}'.format(top_unigrams))\n",
    "    print('5 most frequent 2-grams: {}'.format(top_bigrams))\n",
    "    print('5 most frequent 3-grams: {}'.format(top_trigrams))\n",
    "    print('3 most frequent 4-grams: {}'.format(top_fourgrams))\n",
    "    print('3 most frequent 5-grams: {}'.format(top_fivegrams))\n",
    "    print('\\n\\n')\n",
    "\n",
    "\n",
    "\n",
    "if __name__ == '__main__':\n",
    "    compute_stats(AUSTEN)\n",
    "    compute_stats(BRONTE)\n",
    "    compute_stats(DISPUTED)"
   ]
  },
  {
   "cell_type": "markdown",
   "metadata": {},
   "source": [
    "## Inference - Based on the following three observations, the most likely author of the disputed text is austen\n",
    "1. Vocabulary size is comparable (austen - 6322, disputed - 7099)\n",
    "2. Entropy is close - (austen - 9.06, disputed - 9.01)\n",
    "3. The frequent 3grams are similar between austen and the disputed author "
   ]
  },
  {
   "cell_type": "markdown",
   "metadata": {},
   "source": [
    "## Exercise 4 b)"
   ]
  },
  {
   "cell_type": "code",
   "execution_count": 2,
   "metadata": {},
   "outputs": [],
   "source": [
    "import nltk\n",
    "from nltk.tokenize import RegexpTokenizer\n",
    "import pandas as pd\n",
    "import math\n",
    "import collections\n",
    "import matplotlib.pyplot as plt\n",
    "import numpy as np"
   ]
  },
  {
   "cell_type": "code",
   "execution_count": 3,
   "metadata": {},
   "outputs": [],
   "source": [
    "# Read each of the documents from file\n",
    "with open('austen.txt') as f:\n",
    "        austen = f.read()\n",
    "with open('bronte.txt') as f:\n",
    "        bronte = f.read()\n",
    "with open('disputed.txt') as f:\n",
    "        disputed = f.read()"
   ]
  },
  {
   "cell_type": "code",
   "execution_count": 4,
   "metadata": {},
   "outputs": [],
   "source": [
    "# Tokenize(words) removing characters and punctuations\n",
    "tokenizer = RegexpTokenizer(r'\\w+')\n",
    "tokenized_austen = tokenizer.tokenize(austen)\n",
    "tokenized_bronte = tokenizer.tokenize(bronte)\n",
    "tokenized_disputed = tokenizer.tokenize(disputed)"
   ]
  },
  {
   "cell_type": "code",
   "execution_count": 5,
   "metadata": {},
   "outputs": [],
   "source": [
    "#Lowercase the tokens \n",
    "tokenized_austen = [token.lower() for token in tokenized_austen]\n",
    "tokenized_bronte = [token.lower() for token in tokenized_bronte]\n",
    "tokenized_disputed = [token.lower() for token in tokenized_disputed]"
   ]
  },
  {
   "cell_type": "code",
   "execution_count": 6,
   "metadata": {},
   "outputs": [],
   "source": [
    "# The combined document\n",
    "#tokenized_all_documents = tokenized_austen + tokenized_bronte + tokenized_disputed"
   ]
  },
  {
   "cell_type": "code",
   "execution_count": 7,
   "metadata": {},
   "outputs": [
    {
     "name": "stdout",
     "output_type": "stream",
     "text": [
      "Length of document austen, bronte and disputed respectively are: 122880 188459 161975\n"
     ]
    }
   ],
   "source": [
    "# Computing the length of individual documents\n",
    "len_austen = len(tokenized_austen)\n",
    "len_bronte = len(tokenized_bronte)\n",
    "len_disputed = len(tokenized_disputed)\n",
    "print('Length of document austen, bronte and disputed respectively are:',len_austen,len_bronte,len_disputed)"
   ]
  },
  {
   "cell_type": "code",
   "execution_count": 8,
   "metadata": {},
   "outputs": [],
   "source": [
    "#common_vocabulary across all documents\n",
    "common_vocabulary = list(set(tokenized_austen) & set(tokenized_bronte) & set(tokenized_disputed))"
   ]
  },
  {
   "cell_type": "code",
   "execution_count": 9,
   "metadata": {},
   "outputs": [
    {
     "name": "stdout",
     "output_type": "stream",
     "text": [
      "Length of common vocubaulary among the three documents 3658\n"
     ]
    }
   ],
   "source": [
    "N = len(common_vocabulary)\n",
    "print('Length of common vocubaulary among the three documents', N)"
   ]
  },
  {
   "cell_type": "markdown",
   "metadata": {},
   "source": [
    "### Mean relative frequency of each word from common vocabulary (of size N) in all the documents"
   ]
  },
  {
   "cell_type": "code",
   "execution_count": 10,
   "metadata": {},
   "outputs": [],
   "source": [
    "#Mean relative frequency of the word i over all documents\n",
    "mean_vocab_words = []\n",
    "for word in common_vocabulary:\n",
    "    mean_word = ((tokenized_austen.count(word)/len_austen) + (tokenized_bronte.count(word)/len_bronte) + (tokenized_disputed.count(word)/len_disputed))/ 3.0\n",
    "    mean_vocab_words.append(mean_word)\n",
    "\n",
    "#Total_documents_length = len(tokenized_all_documents)\n",
    "#Mean relative frequency of the word i in all documents\n",
    "#mean_vocab_words = []\n",
    "#for word in common_vocabulary:\n",
    "    #mean_vocab_words.append(tokenized_all_documents.count(word)/Total_documents_length)"
   ]
  },
  {
   "cell_type": "markdown",
   "metadata": {},
   "source": [
    "## Relative frequency of each word in the each of the 3 documents as a 2 D matrix of size Nx3 (fi(D), where i is [1,N] and D is [1,3]"
   ]
  },
  {
   "cell_type": "code",
   "execution_count": 24,
   "metadata": {},
   "outputs": [],
   "source": [
    "# Intial empty dataframe with column names that will be filled up with each word in vocabulary\n",
    "relativefrequency_word = pd.DataFrame(columns=['austen','bronte','disputed'])\n",
    "#relativefrequency_word"
   ]
  },
  {
   "cell_type": "code",
   "execution_count": 26,
   "metadata": {
    "scrolled": true
   },
   "outputs": [],
   "source": [
    "for word in common_vocabulary:\n",
    "    relativefrequency_word = relativefrequency_word.append({'austen' : (tokenized_austen.count(word)/len_austen) , 'bronte' : (tokenized_bronte.count(word)/len_bronte), 'disputed' : (tokenized_disputed.count(word)/len_disputed)} , ignore_index=True)"
   ]
  },
  {
   "cell_type": "markdown",
   "metadata": {},
   "source": [
    "## Standard deviation sigma of relative frequency of each word over the 3 documents"
   ]
  },
  {
   "cell_type": "code",
   "execution_count": 13,
   "metadata": {},
   "outputs": [],
   "source": [
    "#Standard deviation of the relative frequency of the word i over all documents - https://en.wikipedia.org/wiki/Standard_deviation\n",
    "sigma_ofRF_eachword = []\n",
    "for i in range(len(common_vocabulary)):\n",
    "    sigma_ofRF_eachword.append(math.sqrt((pow(relativefrequency_word.iloc[i]['austen'] - mean_vocab_words[i], 2) + pow(relativefrequency_word.iloc[i]['bronte'] - mean_vocab_words[i], 2) + pow(relativefrequency_word.iloc[i]['disputed'] - mean_vocab_words[i], 2))/3))"
   ]
  },
  {
   "cell_type": "markdown",
   "metadata": {},
   "source": [
    "## Z-scores for each document"
   ]
  },
  {
   "cell_type": "code",
   "execution_count": 14,
   "metadata": {},
   "outputs": [],
   "source": [
    "# Intial empty dataframe with column names that will be filled up with each word in vocabulary\n",
    "Zscores = pd.DataFrame(columns=['word','austen','bronte','disputed'])"
   ]
  },
  {
   "cell_type": "code",
   "execution_count": 15,
   "metadata": {},
   "outputs": [],
   "source": [
    "# for each word in common vocabulary\n",
    "for i in range(len(common_vocabulary)):\n",
    "    zaus = (relativefrequency_word.iloc[i]['austen'] - mean_vocab_words[i]) / sigma_ofRF_eachword[i]\n",
    "    zbron = (relativefrequency_word.iloc[i]['bronte'] - mean_vocab_words[i]) / sigma_ofRF_eachword[i]\n",
    "    zdis = (relativefrequency_word.iloc[i]['disputed'] - mean_vocab_words[i]) / sigma_ofRF_eachword[i]\n",
    "    Zscores = Zscores.append({'word': common_vocabulary[i], 'austen' : zaus , 'bronte' : zbron, 'disputed' : zdis} , ignore_index=True)"
   ]
  },
  {
   "cell_type": "code",
   "execution_count": 16,
   "metadata": {},
   "outputs": [
    {
     "data": {
      "text/html": [
       "<div>\n",
       "<style scoped>\n",
       "    .dataframe tbody tr th:only-of-type {\n",
       "        vertical-align: middle;\n",
       "    }\n",
       "\n",
       "    .dataframe tbody tr th {\n",
       "        vertical-align: top;\n",
       "    }\n",
       "\n",
       "    .dataframe thead th {\n",
       "        text-align: right;\n",
       "    }\n",
       "</style>\n",
       "<table border=\"1\" class=\"dataframe\">\n",
       "  <thead>\n",
       "    <tr style=\"text-align: right;\">\n",
       "      <th></th>\n",
       "      <th>word</th>\n",
       "      <th>austen</th>\n",
       "      <th>bronte</th>\n",
       "      <th>disputed</th>\n",
       "    </tr>\n",
       "  </thead>\n",
       "  <tbody>\n",
       "    <tr>\n",
       "      <th>0</th>\n",
       "      <td>returning</td>\n",
       "      <td>0.572293</td>\n",
       "      <td>-1.406129</td>\n",
       "      <td>0.833836</td>\n",
       "    </tr>\n",
       "    <tr>\n",
       "      <th>1</th>\n",
       "      <td>love</td>\n",
       "      <td>-0.326474</td>\n",
       "      <td>1.354900</td>\n",
       "      <td>-1.028426</td>\n",
       "    </tr>\n",
       "    <tr>\n",
       "      <th>2</th>\n",
       "      <td>seats</td>\n",
       "      <td>-0.093636</td>\n",
       "      <td>1.268875</td>\n",
       "      <td>-1.175239</td>\n",
       "    </tr>\n",
       "    <tr>\n",
       "      <th>3</th>\n",
       "      <td>regarding</td>\n",
       "      <td>-0.460749</td>\n",
       "      <td>1.388296</td>\n",
       "      <td>-0.927547</td>\n",
       "    </tr>\n",
       "    <tr>\n",
       "      <th>4</th>\n",
       "      <td>sincerely</td>\n",
       "      <td>1.413876</td>\n",
       "      <td>-0.733684</td>\n",
       "      <td>-0.680192</td>\n",
       "    </tr>\n",
       "    <tr>\n",
       "      <th>...</th>\n",
       "      <td>...</td>\n",
       "      <td>...</td>\n",
       "      <td>...</td>\n",
       "      <td>...</td>\n",
       "    </tr>\n",
       "    <tr>\n",
       "      <th>3653</th>\n",
       "      <td>connected</td>\n",
       "      <td>1.350353</td>\n",
       "      <td>-1.039058</td>\n",
       "      <td>-0.311295</td>\n",
       "    </tr>\n",
       "    <tr>\n",
       "      <th>3654</th>\n",
       "      <td>law</td>\n",
       "      <td>1.193673</td>\n",
       "      <td>-1.253616</td>\n",
       "      <td>0.059943</td>\n",
       "    </tr>\n",
       "    <tr>\n",
       "      <th>3655</th>\n",
       "      <td>spot</td>\n",
       "      <td>0.054950</td>\n",
       "      <td>1.196345</td>\n",
       "      <td>-1.251295</td>\n",
       "    </tr>\n",
       "    <tr>\n",
       "      <th>3656</th>\n",
       "      <td>qualities</td>\n",
       "      <td>1.256984</td>\n",
       "      <td>-0.067249</td>\n",
       "      <td>-1.189735</td>\n",
       "    </tr>\n",
       "    <tr>\n",
       "      <th>3657</th>\n",
       "      <td>stood</td>\n",
       "      <td>-0.665961</td>\n",
       "      <td>1.413430</td>\n",
       "      <td>-0.747470</td>\n",
       "    </tr>\n",
       "  </tbody>\n",
       "</table>\n",
       "<p>3658 rows × 4 columns</p>\n",
       "</div>"
      ],
      "text/plain": [
       "           word    austen    bronte  disputed\n",
       "0     returning  0.572293 -1.406129  0.833836\n",
       "1          love -0.326474  1.354900 -1.028426\n",
       "2         seats -0.093636  1.268875 -1.175239\n",
       "3     regarding -0.460749  1.388296 -0.927547\n",
       "4     sincerely  1.413876 -0.733684 -0.680192\n",
       "...         ...       ...       ...       ...\n",
       "3653  connected  1.350353 -1.039058 -0.311295\n",
       "3654        law  1.193673 -1.253616  0.059943\n",
       "3655       spot  0.054950  1.196345 -1.251295\n",
       "3656  qualities  1.256984 -0.067249 -1.189735\n",
       "3657      stood -0.665961  1.413430 -0.747470\n",
       "\n",
       "[3658 rows x 4 columns]"
      ]
     },
     "execution_count": 16,
     "metadata": {},
     "output_type": "execute_result"
    }
   ],
   "source": [
    "Zscores"
   ]
  },
  {
   "cell_type": "code",
   "execution_count": 17,
   "metadata": {},
   "outputs": [],
   "source": [
    "# 50 most frequent words in austen, bronte and disputed\n",
    "austen_top50 = collections.Counter(tokenized_austen).most_common()[:50]\n",
    "austen_top50 = [i[0] for i in austen_top50]\n",
    "\n",
    "bronte_top50 = collections.Counter(tokenized_bronte).most_common()[:50]\n",
    "bronte_top50 = [i[0] for i in bronte_top50]\n",
    "\n",
    "disputed_top50 = collections.Counter(tokenized_disputed).most_common()[:50]\n",
    "disputed_top50 = [i[0] for i in disputed_top50]"
   ]
  },
  {
   "cell_type": "code",
   "execution_count": 18,
   "metadata": {},
   "outputs": [],
   "source": [
    "# Filter the Zscores of top50 words of each document \n",
    "austen_top50_zscores = Zscores[Zscores['word'].isin(austen_top50)]\n",
    "austen_top50_zscores = austen_top50_zscores[['word', 'austen']] \n",
    "\n",
    "bronte_top50_zscores = Zscores[Zscores['word'].isin(bronte_top50)]\n",
    "bronte_top50_zscores = bronte_top50_zscores[['word','bronte']]\n",
    "\n",
    "disputed_top50_zscores = Zscores[Zscores['word'].isin(disputed_top50)]\n",
    "disputed_top50_zscores = disputed_top50_zscores[['word','disputed']]"
   ]
  },
  {
   "cell_type": "code",
   "execution_count": 19,
   "metadata": {},
   "outputs": [],
   "source": [
    "# For reordering: to reorder Zscores as in the order of top50 frequent words in pandas\n",
    "austen_top50_zscores['word_'] = pd.Categorical(\n",
    "    austen_top50_zscores['word'], \n",
    "    categories = austen_top50, \n",
    "    ordered = True\n",
    ")\n",
    "austen_top50_zscores = austen_top50_zscores.sort_values('word_')\n",
    "\n",
    "bronte_top50_zscores['word_'] = pd.Categorical(\n",
    "    bronte_top50_zscores['word'], \n",
    "    categories = bronte_top50, \n",
    "    ordered = True\n",
    ")\n",
    "bronte_top50_zscores = bronte_top50_zscores.sort_values('word_')\n",
    "\n",
    "disputed_top50_zscores['word_'] = pd.Categorical(\n",
    "    disputed_top50_zscores['word'], \n",
    "    categories = disputed_top50, \n",
    "    ordered = True\n",
    ")\n",
    "disputed_top50_zscores = disputed_top50_zscores.sort_values('word_')"
   ]
  },
  {
   "cell_type": "markdown",
   "metadata": {},
   "source": [
    "## Exercise 4 b1"
   ]
  },
  {
   "cell_type": "code",
   "execution_count": 20,
   "metadata": {},
   "outputs": [
    {
     "data": {
      "text/plain": [
       "<matplotlib.legend.Legend at 0x7feecd0cfed0>"
      ]
     },
     "execution_count": 20,
     "metadata": {},
     "output_type": "execute_result"
    },
    {
     "data": {
      "image/png": "[encoded data removed]",
      "text/plain": [
       "<Figure size 432x288 with 1 Axes>"
      ]
     },
     "metadata": {
      "needs_background": "light"
     },
     "output_type": "display_data"
    }
   ],
   "source": [
    "#%matplotlib qt\n",
    "figure = plt.figure()\n",
    "subplot = figure.add_subplot()\n",
    "\n",
    "plt.ylabel('z scores', fontsize=16)\n",
    "\n",
    "index = 1\n",
    "width = 0\n",
    "\n",
    "for each in austen_top50_zscores['austen']:\n",
    "    if width==0:\n",
    "        plt.bar(index+width, each, 1, color='grey', label='austen')\n",
    "        width+=1\n",
    "    else:\n",
    "        plt.bar(index+width, each, 1, color='grey')\n",
    "        width+=1\n",
    "    \n",
    "index += 70\n",
    "\n",
    "width = 0\n",
    "for each in bronte_top50_zscores['bronte']:\n",
    "    if width==0:\n",
    "        plt.bar(index+width, each, 1, color='black', label='bronte')\n",
    "        width+=1\n",
    "    else:\n",
    "        plt.bar(index+width, each, 1, color='black')\n",
    "        width+=1\n",
    "    \n",
    "index += 70\n",
    "\n",
    "width = 0\n",
    "for each in disputed_top50_zscores['disputed']:\n",
    "    if width==0:\n",
    "        plt.bar(index+width, each, 1, color='blue', label='disputed')\n",
    "        width+=1\n",
    "    else:\n",
    "        plt.bar(index+width, each, 1, color='blue')\n",
    "        width+=1\n",
    "\n",
    "plt.legend()"
   ]
  },
  {
   "cell_type": "markdown",
   "metadata": {},
   "source": [
    "## Based on the bar chart of zscores of top 50 common words, the zscores for austen and disputed are more similar than that of bronte and disputed. The author is likely austen"
   ]
  },
  {
   "cell_type": "markdown",
   "metadata": {},
   "source": [
    "## Exercise 4 b2"
   ]
  },
  {
   "cell_type": "markdown",
   "metadata": {},
   "source": [
    "## Delta b for each pair each pair between the three documents"
   ]
  },
  {
   "cell_type": "code",
   "execution_count": 21,
   "metadata": {},
   "outputs": [
    {
     "data": {
      "text/plain": [
       "6223.0405804149295"
      ]
     },
     "execution_count": 21,
     "metadata": {},
     "output_type": "execute_result"
    }
   ],
   "source": [
    "deltab_bronte_austen = sum((Zscores['bronte'] - Zscores['austen']).abs())\n",
    "deltab_bronte_austen"
   ]
  },
  {
   "cell_type": "code",
   "execution_count": 22,
   "metadata": {},
   "outputs": [
    {
     "data": {
      "text/plain": [
       "5962.898651827579"
      ]
     },
     "execution_count": 22,
     "metadata": {},
     "output_type": "execute_result"
    }
   ],
   "source": [
    "deltab_bronte_disputed = sum((Zscores['bronte'] - Zscores['disputed']).abs())\n",
    "deltab_bronte_disputed"
   ]
  },
  {
   "cell_type": "code",
   "execution_count": 23,
   "metadata": {},
   "outputs": [
    {
     "data": {
      "text/plain": [
       "4859.135655462311"
      ]
     },
     "execution_count": 23,
     "metadata": {},
     "output_type": "execute_result"
    }
   ],
   "source": [
    "deltab_austen_disputed = sum((Zscores['austen'] - Zscores['disputed']).abs())\n",
    "deltab_austen_disputed"
   ]
  },
  {
   "cell_type": "markdown",
   "metadata": {},
   "source": [
    "## Lower the Burrows Delta mean lower the Manhattan distance implying common use of words/phrases by the known author's and the disputed author. The texts from Austen and Disputed author have the least Burrows Delta of ~4859, while that between (Bronte, Austen) = ~6223, (Bronte, disputed author) = ~5962. Hence, the Author is most likely Austen. "
   ]
  },
  {
   "cell_type": "markdown",
   "metadata": {},
   "source": [
    "# # References:\n",
    "### https://www.nltk.org/api/nltk.tokenize.html\n",
    "### https://en.wikipedia.org/wiki/Standard_deviation\n",
    "### https://subscription.packtpub.com/book/big_data_and_business_intelligence/9781849513265/1/ch01lvl1sec16/plotting-multiple-bar-charts"
   ]
  }
 ],
 "metadata": {
  "kernelspec": {
   "display_name": "Python 3",
   "language": "python",
   "name": "python3"
  },
  "language_info": {
   "codemirror_mode": {
    "name": "ipython",
    "version": 3
   },
   "file_extension": ".py",
   "mimetype": "text/x-python",
   "name": "python",
   "nbconvert_exporter": "python",
   "pygments_lexer": "ipython3",
   "version": "3.7.6"
  }
 },
 "nbformat": 4,
 "nbformat_minor": 2
}
